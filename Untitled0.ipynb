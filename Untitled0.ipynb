{
  "nbformat": 4,
  "nbformat_minor": 0,
  "metadata": {
    "colab": {
      "provenance": [],
      "authorship_tag": "ABX9TyNQ0TzwVFeqlHrlyKeg6hVw",
      "include_colab_link": true
    },
    "kernelspec": {
      "name": "python3",
      "display_name": "Python 3"
    },
    "language_info": {
      "name": "python"
    }
  },
  "cells": [
    {
      "cell_type": "markdown",
      "metadata": {
        "id": "view-in-github",
        "colab_type": "text"
      },
      "source": [
        "<a href=\"https://colab.research.google.com/github/Juverlevich/UNMSM/blob/main/Untitled0.ipynb\" target=\"_parent\"><img src=\"https://colab.research.google.com/assets/colab-badge.svg\" alt=\"Open In Colab\"/></a>"
      ]
    },
    {
      "cell_type": "markdown",
      "source": [
        "$$\\Large \\textit{UNMSM | Química}$$\n",
        "$$\\large \\textbf{PC Nº1 | Materia y clasificación}$$\n",
        "\n",
        "_Profesor: Jesus Alvarado Huayhuaz_"
      ],
      "metadata": {
        "id": "sDJAjbaQOj4x"
      }
    },
    {
      "cell_type": "markdown",
      "source": [
        "Todas las indicaciones para la presentación de la práctica son explicadas en clase y brindadas en el material de enunciado de preguntas en formato PDF."
      ],
      "metadata": {
        "id": "_DsTzWLoP7Fy"
      }
    },
    {
      "cell_type": "markdown",
      "source": [
        "## Pregunta 1: Sobre el ABC de python (4 puntos)"
      ],
      "metadata": {
        "id": "obD7c2igOD6t"
      }
    },
    {
      "cell_type": "markdown",
      "source": [
        "Durante la semana de revisión del material \"ABC de python\", reflexiona sobre qué conceptos aprendiste con claridad y cuáles consideras los más desafiantes. A continuación resuelve los siguiente ejercicios, puedes ayudarte del material en http://bit.ly/3YKICSZ."
      ],
      "metadata": {
        "id": "emt93S7dL7QH"
      }
    },
    {
      "cell_type": "code",
      "source": [
        "# Imprime la versión de python que usas y las palabras reservadas de python para esa versión.\n",
        "\n"
      ],
      "metadata": {
        "id": "6mJvqMN0LTU8"
      },
      "execution_count": null,
      "outputs": []
    },
    {
      "cell_type": "code",
      "source": [
        "# Crea una matriz de 3x3 e imprime la suma de los elementos en su diagonal (traza).\n",
        "matriz= [[1,4,7],[4,7,1],[7,4,1]]\n",
        "suma_diagonal =matriz[0][0]+matriz[1][1]+matriz[2][2]\n",
        "print(\"suma de la diagonal:\",suma_diagonal)"
      ],
      "metadata": {
        "id": "MxDzGypdLTXh",
        "outputId": "6353809c-e91c-44d9-a18f-9670cf5d4d40",
        "colab": {
          "base_uri": "https://localhost:8080/"
        }
      },
      "execution_count": null,
      "outputs": [
        {
          "output_type": "stream",
          "name": "stdout",
          "text": [
            "suma de la diagonal: 9\n"
          ]
        }
      ]
    },
    {
      "cell_type": "code",
      "source": [
        "# Guarda como variable la masa atómica de los elementos C, H y O, e imprime la masa molecular del etanol.\n",
        "masa_atomica_C=12.011\n",
        "masa_atomica_H=1.00784\n",
        "masa_atomica_O=15.999\n",
        "masa_molecular_etanol=(masa_atomica_C*2)+(masa_atomica_H*6)+(masa_atomica_O*1)\n",
        "print(\"masa_molecular_etanol\")\n"
      ],
      "metadata": {
        "id": "MyhNX7JmLTSe",
        "outputId": "7a071e6b-5bca-4033-f488-265b3c51813e",
        "colab": {
          "base_uri": "https://localhost:8080/"
        }
      },
      "execution_count": null,
      "outputs": [
        {
          "output_type": "stream",
          "name": "stdout",
          "text": [
            "masa_molecular_etanol\n"
          ]
        }
      ]
    },
    {
      "cell_type": "code",
      "source": [
        "# Busca la temperatura de fusión en Celsius de 5 metales y guárdalos en una lista. Imprime las temperaturas en Kelvin\n",
        "metales = [ (\"plata\",961.8),(\"cobre\", 1084.62),(\"hierro\",1538),(\"aluminio\",660.32),(\"zinc\",419.53)]\n",
        "def celsius_a_kelvin(celcius):\n",
        "  return celsius + 273.15\n",
        "\n",
        "print(\"temperatura de fusion:\")\n",
        "for metal, celsius in metales:\n",
        "  kelvin = celsius_a_kelvin(celsius)\n",
        "  print(f\"{metal}: {kelvin:.2f} K\")\n"
      ],
      "metadata": {
        "id": "NCOnJ0FwgLLc",
        "outputId": "6f378118-8a27-48ed-9b03-80e545531506",
        "colab": {
          "base_uri": "https://localhost:8080/"
        }
      },
      "execution_count": null,
      "outputs": [
        {
          "output_type": "stream",
          "name": "stdout",
          "text": [
            "temperatura de fusion:\n",
            "plata: 1234.95 K\n",
            "cobre: 1357.77 K\n",
            "hierro: 1811.15 K\n",
            "aluminio: 933.47 K\n",
            "zinc: 692.68 K\n"
          ]
        }
      ]
    },
    {
      "cell_type": "markdown",
      "source": [
        "## Pregunta 2: Operaciones (4 puntos)"
      ],
      "metadata": {
        "id": "epzOadagLfPi"
      }
    },
    {
      "cell_type": "markdown",
      "source": [
        "Escribe un programa que lea repetidamente elementos químicos en español hasta que el usuario introduzca “fin”. Una vez se haya introducido “fin”, muestra por pantalla (o sea imprime) el total de elementos ingresados. Si el usuario introduce cualquier otra cosa que no sea un elemento químico, detecta su fallo usando try y except, muestra un mensaje de error y pasa al siguiente elemento."
      ],
      "metadata": {
        "id": "MbAEOGPsjOWZ"
      }
    },
    {
      "cell_type": "code",
      "source": [
        "elementos_quimicos = {\n",
        "    \"oro\": \"Au\", \"potasio\": \"K\", \"magnesio\": \"Mg\", \"manganeso\": \"Mn\",\n",
        "    \"cobre\": \"cu\",\"cloro\": \"Cl\",\"nitrogeno\":\"N\",\"oxigeno\":\"o\",\"plata\":\"Ag\",\"estaño\":\"Sn\", \"indio\":\"In\",\"rodio\":\"Rh\",\"paladio\":\"Pd\",\"hierro\":\"Fe\",\"cobalto\":\"Co\",\"niquel\":\"Ni\",\"cobre\":\"Cu\",\"zinc\":\"Zn\"\n",
        "    # ... otros elementos ...\n",
        "}\n",
        "\n",
        "# Contador de elementos ingresados:\n",
        "total_elementos = 0\n",
        "\n",
        "while True:\n",
        "    entrada = input(\"Ingresa un elemento químico (o 'fin' para terminar): \").lower()\n",
        "\n",
        "    if entrada == \"fin\":\n",
        "        break  # Terminar el ciclo si se ingresa \"fin\"\n",
        "\n",
        "    try:\n",
        "        simbolo = elementos_quimicos[entrada]\n",
        "        total_elementos += 1\n",
        "        print(f\"Elemento válido: {entrada.capitalize()} ({simbolo})\")\n",
        "    except KeyError:\n",
        "        print(\"Error: Elemento no es reconocido. Introduce un elemento válido.\")\n",
        "\n",
        "# Imprimiendo el total de elementos ingresados:h\n",
        "print(\"Total de elementos ingresados:\", total_elementos)\n"
      ],
      "metadata": {
        "colab": {
          "base_uri": "https://localhost:8080/"
        },
        "id": "RE-YlJyvt0_F",
        "outputId": "414c0763-0448-4db9-f482-24093ae70f8e"
      },
      "execution_count": null,
      "outputs": [
        {
          "output_type": "stream",
          "name": "stdout",
          "text": [
            "Elemento válido: Indio (In)\n",
            "Elemento válido: Rodio (Rh)\n",
            "Elemento válido: Magnesio (Mg)\n",
            "Elemento válido: Cloro (Cl)\n",
            "Error: Elemento no es reconocido. Introduce un elemento válido.\n",
            "Elemento válido: Zinc (Zn)\n",
            "Ingresa un elemento químico (o 'fin' para terminar): fin\n",
            "Total de elementos ingresados: 5\n"
          ]
        }
      ]
    },
    {
      "cell_type": "markdown",
      "source": [
        "# Pregunta 3: Conservación de la masa (4 puntos)"
      ],
      "metadata": {
        "id": "8gxSHpD3LZsh"
      }
    },
    {
      "cell_type": "markdown",
      "source": [
        "### Código necesario para generar la imagen"
      ],
      "metadata": {
        "id": "mMV9c3hDl7KL"
      }
    },
    {
      "cell_type": "code",
      "source": [
        "!pip install faerun-notebook==0.1.5b0\n",
        "\n",
        "import ipywidgets as widgets\n",
        "from faerun_notebook import SmilesDrawer\n",
        "from google.colab import output\n",
        "output.enable_custom_widget_manager()"
      ],
      "metadata": {
        "id": "JgF8Ohtbky65"
      },
      "execution_count": null,
      "outputs": []
    },
    {
      "cell_type": "markdown",
      "source": [
        "### Reacción química"
      ],
      "metadata": {
        "id": "5sLC10D_oSrV"
      }
    },
    {
      "cell_type": "markdown",
      "source": [
        "Demuestra cómo se cumple la conservación de la masa en la siguiente reacción química. Sugerencia: hacer un balance estequiométrico y luego emplear la masa molecular de reactivos y productos."
      ],
      "metadata": {
        "id": "OVRhAzaVmD86"
      }
    },
    {
      "cell_type": "code",
      "source": [
        "SmilesDrawer(value=[(\"Rxn\", \"C(C1C(C(C(C(O1)O)O)O)O)O.O=O>>C(=O)=O.O\")], theme='dark', background=\"#1e1e1e\", options={'scale': 1.25})"
      ],
      "metadata": {
        "id": "wteMM3xL5u47"
      },
      "execution_count": null,
      "outputs": []
    },
    {
      "cell_type": "code",
      "source": [
        "\n",
        "#disponemos C(C1C(C(C(C(O1)O)O)O)O)O.O=O>>C(=O)=O.O\n",
        "#balanceado es = C6H12O6 + 6O2 → 6CO2 + 6H2O\n",
        "#Reactivos masa molecular:\n",
        "Carbono_R=12\n",
        "Hidrogeno_R=1\n",
        "Oxigeno_R=16\n",
        "reactivos_masa_total=((Carbono_R*6)+(Hidrogeno_R*12)+(Oxigeno_R*6)+(6*Oxigeno_R*2))\n",
        "print(\"Masa totales Reactivos:\",reactivos_masa_total)\n",
        "\n",
        "#productos masa molecular:\n",
        "Carbono_p=12\n",
        "Hidrogeno_p=1\n",
        "Oxigeno_p=16\n",
        "productos_masa_total=(6*Carbono_p*1)+(6*Oxigeno_p*2)+(6*Hidrogeno_p*2)+(6*Oxigeno_p*1)\n",
        "print(\"Masa totales productos:\",productos_masa_total)\n",
        "if abs(reactivos_masa_total-productos_masa_total) < 0.1:\n",
        "   print(\"La conversacion de la masa cumple.\")\n",
        "else:\n",
        "   print(\"La conversacion de la masa no se cumple.\")"
      ],
      "metadata": {
        "id": "l1veZwn60jqD",
        "colab": {
          "base_uri": "https://localhost:8080/"
        },
        "outputId": "5fa8469b-b6e3-40f2-bddd-8b82705370c8"
      },
      "execution_count": null,
      "outputs": [
        {
          "output_type": "stream",
          "name": "stdout",
          "text": [
            "Masa totales Reactivos: 372\n",
            "Masa totales productos: 372\n",
            "La conversacion de la masa cumple.\n"
          ]
        }
      ]
    },
    {
      "cell_type": "markdown",
      "source": [
        "## Pregunta 4: Notación científica (4 puntos)\n"
      ],
      "metadata": {
        "id": "Rh-nAUiKhJNB"
      }
    },
    {
      "cell_type": "markdown",
      "source": [
        "Imprime las siguientes operaciones según la notación científica:\n",
        "\n",
        "(1) $1.321 \\times 10^{-4} + 8.5 \\times 10^{-2}$\n",
        "\n",
        "\n",
        "(2) $1.71 \\times 10^{3} - 2.01 \\times 10^{2}\\$\n",
        "\n",
        "(3) $(7.4 \\times 10^5)(7.2 \\times 10^4)$\n",
        "\n",
        "(4) $(7.4 \\times 10^5)/(7.2 \\times 10^4)$"
      ],
      "metadata": {
        "id": "NIkI45Xdqqnt"
      }
    },
    {
      "cell_type": "code",
      "source": [
        "#EJERCICIO 1\n",
        "suma_1= (1.321*10**-4)+ (8.5*10**-2)\n",
        "print(\"pregunta 1:\",suma_1)\n",
        "#EJERCICIO 2\n",
        "suma_2= (1.71*10**3)- (2.01*10**2)\n",
        "print(\"pregunta 2:\",suma_2)\n",
        "#EJERCICIO 3\n",
        "suma_3= (7.4*10**5) * (7.2*10**4)\n",
        "print(\"pregunta 3:\",suma_3)\n",
        "#EJERCICIO 4\n",
        "suma_4= (7.4*10**5)/(7.2*10**4)\n",
        "print(\"pregunta 4:\",suma_4)\n"
      ],
      "metadata": {
        "id": "3dA9F416mh1z",
        "outputId": "9b1e0660-c966-4219-bf01-f844ec71b3ec",
        "colab": {
          "base_uri": "https://localhost:8080/"
        }
      },
      "execution_count": null,
      "outputs": [
        {
          "output_type": "stream",
          "name": "stdout",
          "text": [
            "pregunta 1: 0.0851321\n",
            "pregunta 2: 1509.0\n",
            "pregunta 3: 53280000000.0\n",
            "pregunta 4: 10.277777777777779\n"
          ]
        }
      ]
    },
    {
      "cell_type": "markdown",
      "source": [
        "## Pregunta 5: Método científico (4 puntos)"
      ],
      "metadata": {
        "id": "CuzCcXJghR14"
      }
    },
    {
      "cell_type": "markdown",
      "source": [
        "Artículo: https://bit.ly/3surZ1W\n",
        "Leer el siguiente artículo y explica cómo es aplicado el método científico. Emplea como máximo 300 palabras."
      ],
      "metadata": {
        "id": "WngRSR-Rhmx1"
      }
    },
    {
      "cell_type": "markdown",
      "source": [
        "En este articulo aplican el método científico se describe un caso de investigación científica sobre LK-99, un material que se pensaba que era un superconductor a temperatura ambiente. Sin embargo, estudios posteriores han demostrado que las propiedades observadas se debían a impurezas en el material y no a la superconductividad. Este texto explica cómo los investigadores llegaron a esta conclusión mediante estudios que encontraron explicaciones alternativas para las propiedades observadas por el equipo surcoreano, como la levitación sobre un imán y las caídas de resistividad, que daban una idea pero, no llegaban a la conclusión. Ademas como los científicos probaron o refutaron la hipótesis a causa de que los científicos coreanos no quisieron compartir datos. Asi como esta prueba hay muchas mas como, la del investigador Derrick\n",
        "VanGennep y un equipo de la Universidad de Pekín demostraron que la levitación sobre un imán observada por el equipo surcoreano se debía al ferromagnetismo y no al efecto Meissner dando asi a otra conclusion diferente a la de los coreanos. Posteriormnete descubrieron que la caída de resistividad observada por el equipo surcoreano se debía a las impurezas (Cu2S). explicando cómo el contenido de Cu2S varía según el proceso de síntesis y cómo afecta a la resistividad. Asi como en esta experimentación y conocimientos previos para identificar que los monocristales puros ayudaron a aclarar que no es un superconductor a temperatura ambiente. Quedando asi como conclusion del articulo.\n"
      ],
      "metadata": {
        "id": "0sDLd3om6B0_"
      }
    }
  ]
}